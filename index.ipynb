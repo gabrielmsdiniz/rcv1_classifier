{
 "cells": [
  {
   "cell_type": "code",
   "execution_count": 1,
   "metadata": {},
   "outputs": [],
   "source": [
    "from sklearn.datasets import fetch_rcv1\n",
    "rcv1 = fetch_rcv1()"
   ]
  },
  {
   "cell_type": "code",
   "execution_count": 124,
   "metadata": {},
   "outputs": [
    {
     "data": {
      "text/plain": [
       "(804414, 47236)"
      ]
     },
     "execution_count": 124,
     "metadata": {},
     "output_type": "execute_result"
    }
   ],
   "source": [
    "rcv1.data.shape"
   ]
  },
  {
   "cell_type": "code",
   "execution_count": 125,
   "metadata": {},
   "outputs": [],
   "source": [
    "from sklearn.model_selection import train_test_split\n",
    "\n",
    "rcv1_data_train, rcv1_data_test, rcv1_target_train, rcv1_target_test = train_test_split(rcv1.data, rcv1.target, test_size=0.2)\n",
    "\n",
    "# rcv1_data_train = rcv1.data[0:100000]\n",
    "# rcv1_target_train = rcv1.target[0:100000]"
   ]
  },
  {
   "cell_type": "code",
   "execution_count": 126,
   "metadata": {},
   "outputs": [
    {
     "name": "stdout",
     "output_type": "stream",
     "text": [
      "Data Train: (643531, 47236)\n",
      "Target Train: (643531, 103)\n"
     ]
    }
   ],
   "source": [
    "print(f'Data Train: {rcv1_data_train.shape}')\n",
    "print(f'Target Train: {rcv1_target_train.shape}')"
   ]
  },
  {
   "cell_type": "code",
   "execution_count": 127,
   "metadata": {},
   "outputs": [],
   "source": [
    "# from sklearn.model_selection import train_test_split\n",
    "# data = rcv1.data.toarray()\n",
    "# target = rcv1.target.toarray()\n",
    "\n",
    "# rcv1_data_train, rcv1_data_test, rcv1_target_train, rcv1_target_test = train_test_split(data, target, test_size=0.8)"
   ]
  },
  {
   "cell_type": "code",
   "execution_count": 130,
   "metadata": {},
   "outputs": [
    {
     "data": {
      "text/plain": [
       "OneVsRestClassifier(estimator=MultinomialNB(alpha=1.0, class_prior=None,\n",
       "                                            fit_prior=True),\n",
       "                    n_jobs=None)"
      ]
     },
     "execution_count": 130,
     "metadata": {},
     "output_type": "execute_result"
    }
   ],
   "source": [
    "from sklearn.naive_bayes import MultinomialNB\n",
    "from sklearn.multiclass import OneVsRestClassifier\n",
    "clf = OneVsRestClassifier(MultinomialNB())\n",
    "\n",
    "clf.fit(rcv1_data_train, rcv1_target_train)"
   ]
  },
  {
   "cell_type": "code",
   "execution_count": 131,
   "metadata": {},
   "outputs": [],
   "source": [
    "# rcv1_data_test = rcv1.data[100000:]\n",
    "# rcv1_target_test = rcv1.target[100000:]\n",
    "\n",
    "prediction = clf.predict(rcv1_data_test)"
   ]
  },
  {
   "cell_type": "code",
   "execution_count": 133,
   "metadata": {},
   "outputs": [
    {
     "name": "stdout",
     "output_type": "stream",
     "text": [
      "Test accuracy is 0.6509056032993631\n"
     ]
    }
   ],
   "source": [
    "from sklearn.metrics import label_ranking_average_precision_score\n",
    "print('Test label ranking precision is {}'.format(label_ranking_average_precision_score(rcv1_target_test.toarray(), prediction.toarray())))"
   ]
  },
  {
   "cell_type": "code",
   "execution_count": 134,
   "metadata": {},
   "outputs": [
    {
     "data": {
      "text/plain": [
       "OneVsRestClassifier(estimator=LinearSVC(C=1.0, class_weight=None, dual=True,\n",
       "                                        fit_intercept=True, intercept_scaling=1,\n",
       "                                        loss='squared_hinge', max_iter=1000,\n",
       "                                        multi_class='ovr', penalty='l2',\n",
       "                                        random_state=None, tol=0.0001,\n",
       "                                        verbose=0),\n",
       "                    n_jobs=None)"
      ]
     },
     "execution_count": 134,
     "metadata": {},
     "output_type": "execute_result"
    }
   ],
   "source": [
    "## SECOND CLASSIFIER\n",
    "\n",
    "from sklearn.svm import LinearSVC\n",
    "\n",
    "clf2 = OneVsRestClassifier(LinearSVC())\n",
    "clf2.fit(rcv1_data_train, rcv1_target_train)"
   ]
  },
  {
   "cell_type": "code",
   "execution_count": 135,
   "metadata": {},
   "outputs": [],
   "source": [
    "prediction2 = clf2.predict(rcv1_data_test)"
   ]
  },
  {
   "cell_type": "code",
   "execution_count": 136,
   "metadata": {},
   "outputs": [
    {
     "name": "stdout",
     "output_type": "stream",
     "text": [
      "Test label ranking precision is 0.8175901228714727\n"
     ]
    }
   ],
   "source": [
    "from sklearn.metrics import label_ranking_average_precision_score\n",
    "print('Test label ranking precision is {}'.format(label_ranking_average_precision_score(rcv1_target_test.toarray(), prediction2.toarray())))"
   ]
  },
  {
   "cell_type": "code",
   "execution_count": 137,
   "metadata": {},
   "outputs": [
    {
     "name": "stdout",
     "output_type": "stream",
     "text": [
      "Accuracy Score is 0.6116867537278643\n"
     ]
    }
   ],
   "source": [
    "from sklearn.metrics import accuracy_score\n",
    "print('Accuracy Score is {}'.format(accuracy_score(rcv1_target_test, prediction2)))"
   ]
  },
  {
   "cell_type": "code",
   "execution_count": 138,
   "metadata": {},
   "outputs": [
    {
     "name": "stdout",
     "output_type": "stream",
     "text": [
      "  (0, 70)\t1\n"
     ]
    }
   ],
   "source": [
    "print(prediction[2].toarray())"
   ]
  },
  {
   "cell_type": "code",
   "execution_count": 139,
   "metadata": {},
   "outputs": [
    {
     "name": "stdout",
     "output_type": "stream",
     "text": [
      "  (0, 9)\t1\n",
      "  (0, 14)\t1\n",
      "  (0, 15)\t1\n",
      "  (0, 17)\t1\n",
      "  (0, 29)\t1\n",
      "  (0, 33)\t1\n",
      "  (0, 60)\t1\n",
      "  (0, 67)\t1\n",
      "  (0, 70)\t1\n"
     ]
    }
   ],
   "source": [
    "print(rcv1_target_test[2].toarray())"
   ]
  },
  {
   "cell_type": "code",
   "execution_count": null,
   "metadata": {},
   "outputs": [],
   "source": []
  }
 ],
 "metadata": {
  "file_extension": ".py",
  "kernelspec": {
   "display_name": "Python 3.7.6 64-bit",
   "language": "python",
   "name": "python37664bit4a06b12b27994b4981c76dfd74bb113f"
  },
  "language_info": {
   "codemirror_mode": {
    "name": "ipython",
    "version": 3
   },
   "file_extension": ".py",
   "mimetype": "text/x-python",
   "name": "python",
   "nbconvert_exporter": "python",
   "pygments_lexer": "ipython3",
   "version": "3.7.6"
  },
  "mimetype": "text/x-python",
  "name": "python",
  "npconvert_exporter": "python",
  "pygments_lexer": "ipython3",
  "version": 3
 },
 "nbformat": 4,
 "nbformat_minor": 2
}
